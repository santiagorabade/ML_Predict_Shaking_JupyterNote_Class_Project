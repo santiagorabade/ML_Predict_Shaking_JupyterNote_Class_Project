{
 "cells": [
  {
   "cell_type": "markdown",
   "id": "79ff8537",
   "metadata": {},
   "source": [
    "# Predicting Shaking With Machine Learning\n",
    "\n",
    "This project uses two different Machine Learning techniques to predict shaking\n",
    "\n",
    "- Linear Regression\n",
    "- Regression Trees\n",
    "\n"
   ]
  },
  {
   "cell_type": "code",
   "execution_count": null,
   "id": "19812570",
   "metadata": {},
   "outputs": [],
   "source": [
    "# Import modules\n",
    "import pandas as pd\n",
    "import numpy as np\n",
    "import matplotlib.pyplot as plt\n",
    "import seaborn as sns\n",
    "from sklearn.model_selection import train_test_split\n",
    "from sklearn.linear_model import LinearRegression\n",
    "from sklearn.preprocessing import PolynomialFeatures\n",
    "from sklearn.metrics import mean_squared_error\n",
    "import statsmodels.api as sm"
   ]
  },
  {
   "cell_type": "code",
   "execution_count": null,
   "id": "d1d30add",
   "metadata": {},
   "outputs": [],
   "source": [
    "csv_file = 'shaking.csv'\n",
    "df = pd.read_csv(csv_file)\n",
    "df2 = pd.read_csv(csv_file)\n",
    "df.describe()"
   ]
  },
  {
   "cell_type": "code",
   "execution_count": null,
   "id": "8fd29bbc",
   "metadata": {},
   "outputs": [],
   "source": [
    "#columns=list(df.columns)\n",
    "#for column in columns[2:]:\n",
    "#    new_name='norm_'+column\n",
    "#    df2[column]=(df[column]-df[column].min())/(df[column].max()-df[column].min())"
   ]
  },
  {
   "cell_type": "code",
   "execution_count": null,
   "id": "85077643",
   "metadata": {},
   "outputs": [],
   "source": [
    "corr = df.corr()\n",
    "corr.style.background_gradient(cmap='RdBu')"
   ]
  },
  {
   "cell_type": "code",
   "execution_count": null,
   "id": "f6f40591",
   "metadata": {},
   "outputs": [],
   "source": [
    "sns.pairplot(df)\n",
    "plt.show()"
   ]
  },
  {
   "cell_type": "code",
   "execution_count": null,
   "id": "0a131c39",
   "metadata": {},
   "outputs": [],
   "source": [
    "from IPython.display import Image\n",
    "Image(url= \"https://miro.medium.com/max/750/1*TSX7fu85EwGEdnhA-Sv4cA.jpeg\", width=700, height=700)"
   ]
  },
  {
   "cell_type": "code",
   "execution_count": null,
   "id": "787a32b6",
   "metadata": {},
   "outputs": [],
   "source": [
    "print(df.iloc[0])\n",
    "print(df.iloc[1])"
   ]
  },
  {
   "cell_type": "code",
   "execution_count": null,
   "id": "e625a9b1",
   "metadata": {},
   "outputs": [],
   "source": [
    "auX = df[['Ml','epicentral_distance']]\n",
    "X = np.array(auX)\n",
    "auY = df[['channel_pgv_ms']]\n",
    "y = np.array(auY)\n",
    "y = np.log10(y)\n",
    "print(\"X's shape is:\", X.shape)\n",
    "print(\"y's shape is:\", y.shape)\n",
    "newY=np.zeros(302)\n",
    "newX=np.zeros((302,2))\n",
    "counter=0\n",
    "#print(indexPos)\n",
    "for x in range(0, len(df), 2):\n",
    "    if (y[x]>y[x+1]):\n",
    "        newY[counter]=y[x]\n",
    "        newX[counter]=X[x]\n",
    "    else:\n",
    "        newY[counter]=y[x+1]\n",
    "        newX[counter]=X[x+1]  \n",
    "    counter+=1"
   ]
  },
  {
   "cell_type": "code",
   "execution_count": null,
   "id": "a900a476",
   "metadata": {},
   "outputs": [],
   "source": [
    "# Because the data is low dimensional we can visualize all of it.  \n",
    "# In general, this won't be the case so you should get used to summary statistics.\n",
    "plt.figure(figsize=(10,8))\n",
    "sc = plt.scatter(df['epicentral_distance'].values, df['Ml'].values, c=np.log10(df['channel_pgv_ms'].values), cmap=plt.cm.get_cmap('jet'),edgecolors='gray')\n",
    "cbar = plt.colorbar(sc)\n",
    "plt.title(\"$log_{10}$(PGV) vs. Distance and Magnitude\")\n",
    "plt.ylabel(\"Ml\")\n",
    "plt.xlabel(\"Distance (km)\")\n",
    "cbar.set_label('$log_{10}$(PGV)')#, rotation=270)\n",
    "plt.xlim(0,250)\n",
    "plt.grid()\n",
    "plt.show()"
   ]
  },
  {
   "cell_type": "code",
   "execution_count": null,
   "id": "c561c158",
   "metadata": {},
   "outputs": [],
   "source": [
    "X_train, X_test, y_train, y_test = train_test_split(newX, newY, test_size=0.2, random_state=58317)\n",
    "reg = LinearRegression(fit_intercept=True) \n",
    "reg.fit(X_train, y_train) "
   ]
  },
  {
   "cell_type": "code",
   "execution_count": null,
   "id": "103c8bd9",
   "metadata": {},
   "outputs": [],
   "source": [
    "# (3) Compare with mean-squared error of the test and training dataset\n",
    "y_predict_train = reg.predict(X_train) # Computes estimates using the trained model\n",
    "y_predict_test  = reg.predict(X_test)  # Computes estimates using the trained model\n",
    "mse_train = np.sum((y_train - y_predict_train)**2)/len(y_predict_train)\n",
    "mse_test  = np.sum((y_test  -  y_predict_test)**2)/len(y_predict_test)  # or mean_squared_error(y_predict, y_test)\n",
    "print(\"Training MSE:\", mse_train)\n",
    "print(\"Testing MSE:\", mse_test)\n",
    "print(\"Proportion of variance explained in training data (R^2):\", reg.score(X_train,  y_train)) \n",
    "print(\"Proportion of variance explained in test data (R^2):\", reg.score(X_test,  y_test))"
   ]
  },
  {
   "cell_type": "code",
   "execution_count": null,
   "id": "2a48fe49",
   "metadata": {},
   "outputs": [],
   "source": [
    "print(\"Predicted log10(PGV) = %lf %+lf*Ml %+lf*epicentral_distance\"%(reg.intercept_, reg.coef_[0], reg.coef_[1]))"
   ]
  },
  {
   "cell_type": "code",
   "execution_count": null,
   "id": "0d6534d0",
   "metadata": {},
   "outputs": [],
   "source": [
    "# Because the data is low dimensional we can visualize all of it.  \n",
    "# In general, this won't be the case so you should get used to summary statistics.\n",
    "plt.figure(figsize=(10,8))\n",
    "sc = plt.scatter(X_test[:,1], X_test[:,0], c=y_test - y_predict_test, cmap=plt.cm.get_cmap('RdBu'),edgecolors='gray')\n",
    "cbar = plt.colorbar(sc)\n",
    "plt.title(\"Test Set Residual $log_{10}$(PGV) vs. Distance and Magnitude\")\n",
    "plt.ylabel(\"Ml\")\n",
    "plt.xlabel(\"Distance (km)\")\n",
    "cbar.set_label('Residual $log_{10}$(PGV)')#, rotation=270)\n",
    "plt.xlim(0,250)\n",
    "plt.clim(-1,1)\n",
    "plt.grid()\n",
    "plt.show()"
   ]
  },
  {
   "cell_type": "code",
   "execution_count": null,
   "id": "ea66cd8d",
   "metadata": {},
   "outputs": [],
   "source": [
    "from sklearn import tree\n",
    "clf = tree.DecisionTreeRegressor()\n",
    "\n",
    "X_train, X_test, y_train, y_test = train_test_split(newX, newY, test_size=0.2, random_state=58317)\n",
    "clf.fit(X_train, y_train)\n",
    "y_pred = clf.predict(X_test)\n",
    "y_pred_train = clf.predict(X_train)\n",
    "\n",
    "from sklearn import metrics\n",
    "#print('Mean Absolute Error:', metrics.mean_absolute_error(y_test, y_pred))\n",
    "#print('Mean Squared Error:', metrics.mean_squared_error(y_test, y_pred))\n",
    "#print('Root Mean Squared Error:', np.sqrt(metrics.mean_squared_error(y_test, y_pred)))"
   ]
  },
  {
   "cell_type": "code",
   "execution_count": null,
   "id": "1a286c1e",
   "metadata": {},
   "outputs": [],
   "source": [
    "# Because the data is low dimensional we can visualize all of it.  \n",
    "# In general, this won't be the case so you should get used to summary statistics.\n",
    "plt.figure(figsize=(10,8))\n",
    "sc = plt.scatter(X_test[:,1], X_test[:,0], c=y_test - y_pred, cmap=plt.cm.get_cmap('RdBu'),edgecolors='gray')\n",
    "cbar = plt.colorbar(sc)\n",
    "plt.title(\"Test Set Residual $log_{10}$(PGV) vs. Distance and Magnitude\")\n",
    "plt.ylabel(\"Ml\")\n",
    "plt.xlabel(\"Distance (km)\")\n",
    "plt.clim(-1,1)\n",
    "cbar.set_label('Residual $log_{10}$(PGV)')#, rotation=270)\n",
    "plt.xlim(0,250)\n",
    "plt.clim(-1, 1);\n",
    "plt.grid()\n",
    "plt.show()"
   ]
  },
  {
   "cell_type": "code",
   "execution_count": null,
   "id": "a6103b78",
   "metadata": {},
   "outputs": [],
   "source": [
    "mse_train = np.sum((y_train - y_predict_train)**2)/len(y_predict_train)\n",
    "mse_test  = np.sum((y_test  -  y_pred)**2)/len(y_pred)  # or mean_squared_error(y_predict, y_test)\n",
    "#print(np.shape(y_train))\n",
    "#print(np.shape(y_predict_train))\n",
    "#print(np.shape(y_pred))\n",
    "print(\"Training MSE:\", mse_train)\n",
    "print(\"Testing MSE:\", mse_test)\n",
    "print('R^2 (coefficient of determination) regression score function:',metrics.r2_score(y_test, y_pred))"
   ]
  },
  {
   "cell_type": "code",
   "execution_count": null,
   "id": "a7c45b61",
   "metadata": {},
   "outputs": [],
   "source": [
    "importance=clf.feature_importances_\n",
    "objects = ('Magnitude', 'PGV')\n",
    "y_pos = np.arange(len(objects))\n",
    "performance = [10,8]\n",
    "plt.bar(y_pos, importance, align='center', alpha=0.5)\n",
    "plt.xticks(y_pos, objects)\n",
    "plt.ylabel('Feature importance')\n",
    "plt.show()"
   ]
  },
  {
   "cell_type": "markdown",
   "id": "ccac934f",
   "metadata": {},
   "source": [
    "# Takeaways\n",
    "-Straightforward, easy to use and explain techniques\n",
    "\n",
    "-Trees are high-variance, can improve tree model with Boosting\n",
    "\n",
    "-Need more data\n",
    "\n"
   ]
  },
  {
   "cell_type": "code",
   "execution_count": null,
   "id": "181040e5",
   "metadata": {},
   "outputs": [],
   "source": []
  }
 ],
 "metadata": {
  "kernelspec": {
   "display_name": "Python 3 (ipykernel)",
   "language": "python",
   "name": "python3"
  },
  "language_info": {
   "codemirror_mode": {
    "name": "ipython",
    "version": 3
   },
   "file_extension": ".py",
   "mimetype": "text/x-python",
   "name": "python",
   "nbconvert_exporter": "python",
   "pygments_lexer": "ipython3",
   "version": "3.10.3"
  }
 },
 "nbformat": 4,
 "nbformat_minor": 5
}
